{
 "cells": [
  {
   "cell_type": "code",
   "execution_count": 27,
   "id": "5cc955e5",
   "metadata": {},
   "outputs": [
    {
     "name": "stdout",
     "output_type": "stream",
     "text": [
      "content='Message from the AI' additional_kwargs={} response_metadata={}\n"
     ]
    }
   ],
   "source": [
    "from langchain_core.messages import AIMessage, HumanMessage\n",
    "\n",
    "ai_message = AIMessage(content=\"Message from the AI\")\n",
    "print(ai_message)"
   ]
  },
  {
   "cell_type": "code",
   "execution_count": 28,
   "id": "f6d0d21b",
   "metadata": {},
   "outputs": [
    {
     "name": "stdout",
     "output_type": "stream",
     "text": [
      "content='Message from the Human' additional_kwargs={} response_metadata={}\n"
     ]
    }
   ],
   "source": [
    "human_message = HumanMessage(content=\"Message from the Human\")\n",
    "print(human_message)"
   ]
  },
  {
   "cell_type": "code",
   "execution_count": 29,
   "id": "e8668595",
   "metadata": {},
   "outputs": [
    {
     "name": "stdout",
     "output_type": "stream",
     "text": [
      "[AIMessage(content='Message from the AI', additional_kwargs={}, response_metadata={}), HumanMessage(content='Message from the Human', additional_kwargs={}, response_metadata={})]\n"
     ]
    }
   ],
   "source": [
    "messages = [ai_message, human_message]\n",
    "print(messages)"
   ]
  },
  {
   "cell_type": "code",
   "execution_count": 30,
   "id": "04130cac",
   "metadata": {},
   "outputs": [
    {
     "data": {
      "text/plain": [
       "[1, 2, 3]"
      ]
     },
     "execution_count": 30,
     "metadata": {},
     "output_type": "execute_result"
    }
   ],
   "source": [
    "[1,2] + [3]"
   ]
  },
  {
   "cell_type": "code",
   "execution_count": 31,
   "id": "250e7d68",
   "metadata": {},
   "outputs": [
    {
     "name": "stdout",
     "output_type": "stream",
     "text": [
      "[AIMessage(content='Message from the AI', additional_kwargs={}, response_metadata={}), HumanMessage(content='Message from the Human', additional_kwargs={}, response_metadata={}), AIMessage(content='Message from the AI', additional_kwargs={}, response_metadata={})]\n"
     ]
    }
   ],
   "source": [
    "messages = messages + [ai_message]\n",
    "print(messages)"
   ]
  },
  {
   "cell_type": "code",
   "execution_count": 33,
   "id": "4fcd1c2d",
   "metadata": {},
   "outputs": [
    {
     "data": {
      "text/plain": [
       "[HumanMessage(content='Hello', additional_kwargs={}, response_metadata={}, id='1'),\n",
       " AIMessage(content='Hi there!', additional_kwargs={}, response_metadata={}, id='2')]"
      ]
     },
     "execution_count": 33,
     "metadata": {},
     "output_type": "execute_result"
    }
   ],
   "source": [
    "from langchain_core.messages import AIMessage, HumanMessage\n",
    "from langgraph.graph import add_messages\n",
    "\n",
    "list_1 = [HumanMessage(content=\"Hello\", id=\"1\"), AIMessage(content=\"Hi there!\", id=\"2\")]\n",
    "list_2 = [HumanMessage(content=\"Hello\", id=\"2\"), AIMessage(content=\"Hi there!\", id=\"3\")]\n",
    "add_messages(list_1, [])\n"
   ]
  },
  {
   "cell_type": "code",
   "execution_count": null,
   "id": "f4f45208",
   "metadata": {},
   "outputs": [
    {
     "data": {
      "text/plain": [
       "'\\n    You are a helpful assistant.\\n    Answer the following question: What is the capital of France?\\n    '"
      ]
     },
     "execution_count": 37,
     "metadata": {},
     "output_type": "execute_result"
    }
   ],
   "source": [
    "from langchain_core.prompts import PromptTemplate\n",
    "\n",
    "template = PromptTemplate(\n",
    "    template=\"\"\"\n",
    "    You are a helpful assistant.\n",
    "    Answer the following question: {question}\n",
    "    \"\"\"\n",
    ")\n",
    "prompt = template.invoke({\"question\": \"What is the capital of France?\"})\n",
    "prompt.to_string()"
   ]
  },
  {
   "cell_type": "code",
   "execution_count": 39,
   "id": "768c1940",
   "metadata": {},
   "outputs": [
    {
     "data": {
      "text/plain": [
       "SystemMessage(content='\\n    You are a helpful assistant.\\n    Answer the following question: What is the capital of France?\\n    ', additional_kwargs={}, response_metadata={})"
      ]
     },
     "execution_count": 39,
     "metadata": {},
     "output_type": "execute_result"
    }
   ],
   "source": [
    "from langchain_core.messages import SystemMessage\n",
    "SystemMessage(content=prompt.to_string())"
   ]
  },
  {
   "cell_type": "code",
   "execution_count": null,
   "id": "460b5e0c",
   "metadata": {},
   "outputs": [],
   "source": [
    "from langgraph.graph import MessagesState\n",
    "from langchain.agents import AgentState\n"
   ]
  }
 ],
 "metadata": {
  "kernelspec": {
   "display_name": ".venv",
   "language": "python",
   "name": "python3"
  },
  "language_info": {
   "codemirror_mode": {
    "name": "ipython",
    "version": 3
   },
   "file_extension": ".py",
   "mimetype": "text/x-python",
   "name": "python",
   "nbconvert_exporter": "python",
   "pygments_lexer": "ipython3",
   "version": "3.12.3"
  }
 },
 "nbformat": 4,
 "nbformat_minor": 5
}
