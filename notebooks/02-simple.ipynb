{
 "cells": [
  {
   "cell_type": "code",
   "execution_count": 31,
   "id": "5cc955e5",
   "metadata": {},
   "outputs": [
    {
     "name": "stdout",
     "output_type": "stream",
     "text": [
      "{}\n",
      "{'my_var': 'asas'}\n"
     ]
    }
   ],
   "source": [
    "from typing import TypedDict\n",
    "\n",
    "class State(TypedDict):\n",
    "    my_var: str\n",
    "    customer_name: str\n",
    "\n",
    "state: State = {}\n",
    "print(state)\n",
    "state['my_var'] = 'asas'\n",
    "print(state)"
   ]
  },
  {
   "cell_type": "code",
   "execution_count": 32,
   "id": "95f42c3b",
   "metadata": {},
   "outputs": [],
   "source": [
    "def my_node(state: State) -> State:\n",
    "    my_var = state.get('my_var') \n",
    "    if my_var is None:\n",
    "        state['my_var'] = 'is None'\n",
    "    else:\n",
    "        state['my_var'] = 'is not None'\n",
    "    return state\n"
   ]
  },
  {
   "cell_type": "code",
   "execution_count": 33,
   "id": "bf522978",
   "metadata": {},
   "outputs": [],
   "source": [
    "from langgraph.graph import StateGraph, START, END\n",
    "\n",
    "builder = StateGraph(State)\n",
    "\n",
    "builder.add_node('my_node', my_node)\n",
    "\n",
    "builder.add_edge(START, 'my_node')\n",
    "builder.add_edge('my_node', END)\n",
    "\n",
    "agent = builder.compile()"
   ]
  },
  {
   "cell_type": "code",
   "execution_count": 34,
   "id": "605386bb",
   "metadata": {},
   "outputs": [
    {
     "data": {
      "image/png": "[encoded data removed]",
      "text/plain": [
       "<IPython.core.display.Image object>"
      ]
     },
     "metadata": {},
     "output_type": "display_data"
    }
   ],
   "source": [
    "from IPython.display import Image, display\n",
    "\n",
    "display(Image(agent.get_graph().draw_mermaid_png()))"
   ]
  }
 ],
 "metadata": {
  "kernelspec": {
   "display_name": ".venv",
   "language": "python",
   "name": "python3"
  },
  "language_info": {
   "codemirror_mode": {
    "name": "ipython",
    "version": 3
   },
   "file_extension": ".py",
   "mimetype": "text/x-python",
   "name": "python",
   "nbconvert_exporter": "python",
   "pygments_lexer": "ipython3",
   "version": "3.12.3"
  }
 },
 "nbformat": 4,
 "nbformat_minor": 5
}
